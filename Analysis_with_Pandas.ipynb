{
 "cells": [
  {
   "cell_type": "markdown",
   "metadata": {},
   "source": [
    "# Pandas Excercise\n",
    "\n",
    "### We stopped ten people in the street and asked them what pets they have. We also recorded the person's sex and age."
   ]
  },
  {
   "cell_type": "code",
   "execution_count": 1,
   "metadata": {},
   "outputs": [],
   "source": [
    "import numpy as np\n",
    "import pandas as pd"
   ]
  },
  {
   "cell_type": "code",
   "execution_count": 2,
   "metadata": {},
   "outputs": [],
   "source": [
    "pets = pd.DataFrame({'sex': np.array(['M', 'M', 'F', 'M', 'F', 'F', 'F', 'M', 'F', 'M']),\n",
    "                   'age': np.array([21, 45, 23, 56, 47, 70, 34, 30, 19, 62]),\n",
    "                   'pets': np.array([['cat', 'dog'],\n",
    "                                    ['hamster'],\n",
    "                                    ['cat', 'gerbil'],\n",
    "                                    ['fish', 'hamster', 'gerbil'],\n",
    "                                    ['cat'],\n",
    "                                    ['dog'],\n",
    "                                    ['dog'],\n",
    "                                    ['cat'],\n",
    "                                    ['rabbit', 'cat'],\n",
    "                                    ['dog']])})"
   ]
  },
  {
   "cell_type": "markdown",
   "metadata": {},
   "source": [
    "# 1.Look at the data"
   ]
  },
  {
   "cell_type": "code",
   "execution_count": 3,
   "metadata": {},
   "outputs": [
    {
     "name": "stdout",
     "output_type": "stream",
     "text": [
      "  sex  age                     pets\n",
      "0   M   21               [cat, dog]\n",
      "1   M   45                [hamster]\n",
      "2   F   23            [cat, gerbil]\n",
      "3   M   56  [fish, hamster, gerbil]\n",
      "4   F   47                    [cat]\n",
      "5   F   70                    [dog]\n",
      "6   F   34                    [dog]\n",
      "7   M   30                    [cat]\n",
      "8   F   19            [rabbit, cat]\n",
      "9   M   62                    [dog]\n"
     ]
    }
   ],
   "source": [
    "#Ideally to get a look of the data we should use head() or tail() function of the dataframe\n",
    "print(pets)"
   ]
  },
  {
   "cell_type": "markdown",
   "metadata": {},
   "source": [
    "# 2.What sex was the youngest respondent?"
   ]
  },
  {
   "cell_type": "code",
   "execution_count": 80,
   "metadata": {},
   "outputs": [
    {
     "name": "stdout",
     "output_type": "stream",
     "text": [
      "8    F\n",
      "Name: sex, dtype: object\n"
     ]
    }
   ],
   "source": [
    "print(pets.loc[pets['age'].apply(lambda x: x==pets['age'].min()),'sex'])"
   ]
  },
  {
   "cell_type": "markdown",
   "metadata": {},
   "source": [
    "# 3.What age was the person with the most pets?"
   ]
  },
  {
   "cell_type": "code",
   "execution_count": 38,
   "metadata": {},
   "outputs": [
    {
     "name": "stdout",
     "output_type": "stream",
     "text": [
      "3    56\n",
      "Name: age, dtype: int32\n"
     ]
    }
   ],
   "source": [
    "pets['num_pets'] = list(map(lambda x:len(x), pets['pets']))\n",
    "print(pets.loc[pets['num_pets'].max()==pets['num_pets'],'age'])"
   ]
  },
  {
   "cell_type": "markdown",
   "metadata": {},
   "source": [
    "# 4.What was the most popular pet?"
   ]
  },
  {
   "cell_type": "code",
   "execution_count": 7,
   "metadata": {},
   "outputs": [
    {
     "name": "stdout",
     "output_type": "stream",
     "text": [
      "0         cat\n",
      "1         dog\n",
      "2     hamster\n",
      "3         cat\n",
      "4      gerbil\n",
      "5        fish\n",
      "6     hamster\n",
      "7      gerbil\n",
      "8         cat\n",
      "9         dog\n",
      "10        dog\n",
      "11        cat\n",
      "12     rabbit\n",
      "13        cat\n",
      "14        dog\n",
      "dtype: object\n",
      "cat is the most popular pet\n"
     ]
    }
   ],
   "source": [
    "#making a series \n",
    "pet_series = pets['pets'].apply(pd.Series).stack().reset_index(drop=True)\n",
    "#From the long series, we find a frequecy series, from which we find the index of the element with maximum frequency\n",
    "print(pet_series.value_counts().idxmax(), \"is the most popular pet\")"
   ]
  },
  {
   "cell_type": "markdown",
   "metadata": {},
   "source": [
    "# 5.What was the average age of dog owners?"
   ]
  },
  {
   "cell_type": "code",
   "execution_count": 83,
   "metadata": {},
   "outputs": [
    {
     "data": {
      "text/plain": [
       "46.75"
      ]
     },
     "execution_count": 83,
     "metadata": {},
     "output_type": "execute_result"
    }
   ],
   "source": [
    "pets.loc[pets['pets'].apply(lambda x: 'dog' in x),'age'].mean()"
   ]
  }
 ],
 "metadata": {
  "kernelspec": {
   "display_name": "Python 3",
   "language": "python",
   "name": "python3"
  },
  "language_info": {
   "codemirror_mode": {
    "name": "ipython",
    "version": 3
   },
   "file_extension": ".py",
   "mimetype": "text/x-python",
   "name": "python",
   "nbconvert_exporter": "python",
   "pygments_lexer": "ipython3",
   "version": "3.7.1"
  }
 },
 "nbformat": 4,
 "nbformat_minor": 2
}
